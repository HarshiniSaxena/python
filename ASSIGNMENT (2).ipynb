{
  "nbformat": 4,
  "nbformat_minor": 0,
  "metadata": {
    "colab": {
      "provenance": []
    },
    "kernelspec": {
      "name": "python3",
      "display_name": "Python 3"
    },
    "language_info": {
      "name": "python"
    }
  },
  "cells": [
    {
      "cell_type": "markdown",
      "source": [
        "**ASSIGNMENT OF BASIC PYTHON**"
      ],
      "metadata": {
        "id": "rxTDtdR-Wjpz"
      }
    },
    {
      "cell_type": "code",
      "execution_count": null,
      "metadata": {
        "id": "vt5IedbKInyC"
      },
      "outputs": [],
      "source": []
    },
    {
      "cell_type": "markdown",
      "source": [
        " **BASIC THEORY QUESTION**"
      ],
      "metadata": {
        "id": "gp-uBL_ZWXio"
      }
    },
    {
      "cell_type": "markdown",
      "source": [
        "Q1- What is Python, and why is it popular?\n",
        "\n",
        "ANS- Python is a high-level, interpreted programming language known for its simple syntax, readability, and large standard library. It's popular because it's beginner-friendly and widely used in web development, data science, automation, AI, and more."
      ],
      "metadata": {
        "id": "YGltncfLI4mh"
      }
    },
    {
      "cell_type": "markdown",
      "source": [
        "Q2-What is an interpreter in Python?\n",
        "\n",
        "ANS- An interpreter executes Python code line-by-line, translating it into machine code at runtime, which makes debugging easier."
      ],
      "metadata": {
        "id": "U3h7uigaI4jJ"
      }
    },
    {
      "cell_type": "markdown",
      "source": [
        "Q3- What are pre-defined keywords in Python?\n",
        "\n",
        "ANS- Keywords are reserved words that have special meaning in Python, such as if, else, while, for, def, class, etc. They cannot be used as identifiers or variable names."
      ],
      "metadata": {
        "id": "7Sy-XiNMI4gT"
      }
    },
    {
      "cell_type": "markdown",
      "source": [
        "Q4- Can keywords be used as variable names?\n",
        "\n",
        "ANS- No, Python keywords cannot be used as variable names because they are reserved for specific programming constructs."
      ],
      "metadata": {
        "id": "3HK9Fs5aI4di"
      }
    },
    {
      "cell_type": "markdown",
      "source": [
        "Q5-What is mutability in Python?\n",
        "\n",
        "ANS- Mutability refers to whether an object’s content can be changed after it’s created. Mutable objects (like lists) can be modified, while immutable ones (like tuples) cannot."
      ],
      "metadata": {
        "id": "4S0cZS1zI4as"
      }
    },
    {
      "cell_type": "markdown",
      "source": [
        "Q6- Why are lists mutable, but tuples are immutable?\n",
        "\n",
        "ANS- Lists are designed to hold dynamic data, allowing updates and changes. Tuples are used for fixed data collections and do not allow modification, ensuring data safety and optimization."
      ],
      "metadata": {
        "id": "1uvs2pI_I4YT"
      }
    },
    {
      "cell_type": "markdown",
      "source": [
        "Q7- What is the difference between == and is operators in Python?\n",
        "\n",
        "ANS- '==' checks if two variables have the same value.\n",
        "'is' checks if two variables point to the same memory location (identity)."
      ],
      "metadata": {
        "id": "3nrimnafI4VQ"
      }
    },
    {
      "cell_type": "markdown",
      "source": [
        "Q8- What are logical operators in Python?\n",
        "\n",
        "ANS- Logical operators include and, or, and not.\n",
        "\n",
        "   1.and returns True if both conditions are True.\n",
        "\n",
        "   2.or returns True if at least one condition is True.\n",
        "\n",
        "   3.not reverses the conditions result."
      ],
      "metadata": {
        "id": "zKnVEVolI4Sv"
      }
    },
    {
      "cell_type": "markdown",
      "source": [
        "Q9- What is type casting in Python?\n",
        "\n",
        "ANS- Type casting is converting a value from one data type to another, such as from string to integer using int(), or integer to float using float()."
      ],
      "metadata": {
        "id": "vP6jf6KANVq4"
      }
    },
    {
      "cell_type": "markdown",
      "source": [
        "Q10- What is the difference between implicit and explicit type casting?\n",
        "\n",
        "ANS- 1. Implicit casting is done automatically by Python when no data loss    is expected.\n",
        "\n",
        " 2. Explicit casting is done manually by the programmer using functions like int(), str(), or float()."
      ],
      "metadata": {
        "id": "yHmpLwrtNX3Q"
      }
    },
    {
      "cell_type": "markdown",
      "source": [
        "Q11- What is the purpose of conditional statements in Python?\n",
        "\n",
        "ANS- Conditional statements (if, elif, else) allow the execution of specific code blocks depending on whether a condition is True or False."
      ],
      "metadata": {
        "id": "NzGTXb1iOFBr"
      }
    },
    {
      "cell_type": "markdown",
      "source": [
        "Q12- How does the elif statement work?\n",
        "\n",
        "ANS- The elif (else if) statement lets you check multiple conditions after the if. If the if condition is False, Python evaluates the elif conditions in order."
      ],
      "metadata": {
        "id": "AaebWSF_OFz1"
      }
    },
    {
      "cell_type": "markdown",
      "source": [
        "Q13- What is the difference between for and while loops?\n",
        "\n",
        "ANS- 1.'for' loops are used when the number of iterations is known or looping over a sequence.\n",
        "\n",
        "  2.'while' loops are used when the loop must continue until a condition is no longer True."
      ],
      "metadata": {
        "id": "yEWuZepFOGWZ"
      }
    },
    {
      "cell_type": "markdown",
      "source": [
        "Q14- Describe a scenario where a while loop is more suitable than a for loop.\n",
        "\n",
        "ANS- A while loop is better when you don’t know in advance how many times you’ll loop — e.g., continuously asking a user for input until they enter a valid password.\n",
        "\n"
      ],
      "metadata": {
        "id": "0eEYJR6IOGTQ"
      }
    },
    {
      "cell_type": "markdown",
      "source": [
        "**PRACTICAL QUESTIONS**"
      ],
      "metadata": {
        "id": "vvz1YZJcRKys"
      }
    },
    {
      "cell_type": "markdown",
      "source": [
        "Q1- Write a Python program to print \"Hello, World!\""
      ],
      "metadata": {
        "id": "s8QrqdUrOGL8"
      }
    },
    {
      "cell_type": "code",
      "source": [
        "print(\"Hello, World!\")"
      ],
      "metadata": {
        "colab": {
          "base_uri": "https://localhost:8080/"
        },
        "id": "PVb1wDN6RCMo",
        "outputId": "f5443b45-6362-4005-f650-cf935f10143b"
      },
      "execution_count": null,
      "outputs": [
        {
          "output_type": "stream",
          "name": "stdout",
          "text": [
            "Hello, World!\n"
          ]
        }
      ]
    },
    {
      "cell_type": "markdown",
      "source": [
        "Q2- Write a Python program that displays your name and age."
      ],
      "metadata": {
        "id": "5SUjJ29ZOF-c"
      }
    },
    {
      "cell_type": "code",
      "source": [
        "name = \"Harshini\"\n",
        "age = 22\n",
        "print(\"Name:\", name)\n",
        "print(\"Age:\", age)"
      ],
      "metadata": {
        "colab": {
          "base_uri": "https://localhost:8080/"
        },
        "id": "vluMwdOVRfQb",
        "outputId": "6dc34303-7129-44b6-f452-f9610bdfb1fe"
      },
      "execution_count": null,
      "outputs": [
        {
          "output_type": "stream",
          "name": "stdout",
          "text": [
            "Name: Harshini\n",
            "Age: 22\n"
          ]
        }
      ]
    },
    {
      "cell_type": "markdown",
      "source": [
        "Q3- Write code to print all the pre-defined keywords in Python using the keyword library."
      ],
      "metadata": {
        "id": "vPRvaEe6OF7F"
      }
    },
    {
      "cell_type": "code",
      "source": [
        "help(\"keywords\")"
      ],
      "metadata": {
        "colab": {
          "base_uri": "https://localhost:8080/"
        },
        "id": "KK6Ha7mgRvNa",
        "outputId": "8684e9bd-63da-4b26-e9d8-7631d5cf9ee7"
      },
      "execution_count": null,
      "outputs": [
        {
          "output_type": "stream",
          "name": "stdout",
          "text": [
            "\n",
            "Here is a list of the Python keywords.  Enter any keyword to get more help.\n",
            "\n",
            "False               class               from                or\n",
            "None                continue            global              pass\n",
            "True                def                 if                  raise\n",
            "and                 del                 import              return\n",
            "as                  elif                in                  try\n",
            "assert              else                is                  while\n",
            "async               except              lambda              with\n",
            "await               finally             nonlocal            yield\n",
            "break               for                 not                 \n",
            "\n"
          ]
        }
      ]
    },
    {
      "cell_type": "markdown",
      "source": [
        "Q4- Write a program that checks if a given word is a Python keyword."
      ],
      "metadata": {
        "id": "6CUtWis6Rnwi"
      }
    },
    {
      "cell_type": "code",
      "source": [
        "import keyword\n",
        "word = input(\"Enter a word: \")\n",
        "print(keyword.iskeyword(word))"
      ],
      "metadata": {
        "colab": {
          "base_uri": "https://localhost:8080/"
        },
        "id": "TsHp9rF1SPLB",
        "outputId": "71b10e78-13e7-4808-aff4-c62650aa62c6"
      },
      "execution_count": null,
      "outputs": [
        {
          "output_type": "stream",
          "name": "stdout",
          "text": [
            "Enter a word: not\n",
            "True\n"
          ]
        }
      ]
    },
    {
      "cell_type": "markdown",
      "source": [
        " Q5- Create a list and tuple in Python, and demonstrate how attempting to change an element works differently\n",
        "for each."
      ],
      "metadata": {
        "id": "W-oByXCTRns-"
      }
    },
    {
      "cell_type": "code",
      "source": [
        "my_list = [1, 2, 3]\n",
        "my_tuple = (1, 2, 3)\n",
        "\n",
        "my_list[0] = 10\n",
        "print(\"Modified list:\", my_list)"
      ],
      "metadata": {
        "colab": {
          "base_uri": "https://localhost:8080/"
        },
        "id": "i4QDLin0S6aV",
        "outputId": "d44804a2-22f5-43d5-aefd-229e35c05772"
      },
      "execution_count": null,
      "outputs": [
        {
          "output_type": "stream",
          "name": "stdout",
          "text": [
            "Modified list: [10, 2, 3]\n"
          ]
        }
      ]
    },
    {
      "cell_type": "markdown",
      "source": [
        "Q6- Write a function to demonstrate the behavior of mutable and immutable arguments."
      ],
      "metadata": {
        "id": "BX5R4Tz_S5sB"
      }
    },
    {
      "cell_type": "code",
      "source": [
        "def modify_list(lst):\n",
        "    lst.append(4)\n",
        "\n",
        "def modify_int(x):\n",
        "    x += 1\n",
        "\n",
        "my_list = [1, 2, 3]\n",
        "my_int = 5\n",
        "\n",
        "modify_list(my_list)\n",
        "modify_int(my_int)\n",
        "\n",
        "print(\"List:\", my_list)\n",
        "print(\"Integer:\", my_int)"
      ],
      "metadata": {
        "colab": {
          "base_uri": "https://localhost:8080/"
        },
        "id": "ow8X_SajTHF5",
        "outputId": "b1546b86-4131-4447-b622-21a296462496"
      },
      "execution_count": null,
      "outputs": [
        {
          "output_type": "stream",
          "name": "stdout",
          "text": [
            "List: [1, 2, 3, 4]\n",
            "Integer: 5\n"
          ]
        }
      ]
    },
    {
      "cell_type": "markdown",
      "source": [
        " Q7- Write a program that performs basic arithmetic operations on two user-input numbers.\n",
        "```\n",
        "\n"
      ],
      "metadata": {
        "id": "aerU6HUdRnpl"
      }
    },
    {
      "cell_type": "code",
      "source": [
        "a = int(input(\"Enter first number: \"))\n",
        "b = int(input(\"Enter second number: \"))\n",
        "print(\"Sum:\", a + b)\n",
        "print(\"Difference:\", a - b)\n",
        "print(\"Product:\", a * b)\n",
        "print(\"Division:\", a / b)"
      ],
      "metadata": {
        "colab": {
          "base_uri": "https://localhost:8080/"
        },
        "id": "RlMLiRhNUHcb",
        "outputId": "0e72437b-90db-4413-b5f6-5ea5011c9d4f"
      },
      "execution_count": null,
      "outputs": [
        {
          "output_type": "stream",
          "name": "stdout",
          "text": [
            "Enter first number: 2\n",
            "Enter second number: 4\n",
            "Sum: 6\n",
            "Difference: -2\n",
            "Product: 8\n",
            "Division: 0.5\n"
          ]
        }
      ]
    },
    {
      "cell_type": "markdown",
      "source": [
        "Q8- Write a program to demonstrate the use of logical operators."
      ],
      "metadata": {
        "id": "300epxrqRnmw"
      }
    },
    {
      "cell_type": "code",
      "source": [
        "a = True\n",
        "b = False\n",
        "\n",
        "print(\"a and b:\", a and b)\n",
        "print(\"a or b:\", a or b)\n",
        "print(\"not a:\", not a)"
      ],
      "metadata": {
        "colab": {
          "base_uri": "https://localhost:8080/"
        },
        "id": "PHyBLFaxU1rE",
        "outputId": "56e3ed20-a235-43c9-bf4e-c39ec222fe46"
      },
      "execution_count": null,
      "outputs": [
        {
          "output_type": "stream",
          "name": "stdout",
          "text": [
            "a and b: False\n",
            "a or b: True\n",
            "not a: False\n"
          ]
        }
      ]
    },
    {
      "cell_type": "markdown",
      "source": [
        "Q9- Write a Python program to convert user input from string to integer, float, and boolean types."
      ],
      "metadata": {
        "id": "Ylm_iqofU2g5"
      }
    },
    {
      "cell_type": "code",
      "source": [
        "s = input(\"Enter a number: \")\n",
        "print(\"As Integer:\", int(s))\n",
        "print(\"As Float:\", float(s))\n",
        "print(\"As Boolean:\", bool(int(s)))"
      ],
      "metadata": {
        "colab": {
          "base_uri": "https://localhost:8080/"
        },
        "id": "rsAth5E9VDjm",
        "outputId": "6c61ba46-d083-46e8-a5e3-9cc503dd1c91"
      },
      "execution_count": null,
      "outputs": [
        {
          "output_type": "stream",
          "name": "stdout",
          "text": [
            "Enter a number: 4\n",
            "As Integer: 4\n",
            "As Float: 4.0\n",
            "As Boolean: True\n"
          ]
        }
      ]
    },
    {
      "cell_type": "markdown",
      "source": [
        "Q10- Write code to demonstrate type casting with list elements."
      ],
      "metadata": {
        "id": "jpupLlI9U2UJ"
      }
    },
    {
      "cell_type": "code",
      "source": [
        "my_list = [\"1\", \"2\", \"3\"]\n",
        "int_list = [int(x) for x in my_list]\n",
        "print(int_list)"
      ],
      "metadata": {
        "colab": {
          "base_uri": "https://localhost:8080/"
        },
        "id": "G8WwHWgGVQIW",
        "outputId": "b6470105-e2a4-4c59-e361-a61204048c1c"
      },
      "execution_count": null,
      "outputs": [
        {
          "output_type": "stream",
          "name": "stdout",
          "text": [
            "[1, 2, 3]\n"
          ]
        }
      ]
    },
    {
      "cell_type": "markdown",
      "source": [
        "Q11- Write a program that checks if a number is positive, negative, or zero."
      ],
      "metadata": {
        "id": "c-0A-sMLU2Ca"
      }
    },
    {
      "cell_type": "code",
      "source": [
        "num = int(input(\"Enter a number: \"))\n",
        "\n",
        "if num > 0:\n",
        "    print(\"Positive\")\n",
        "elif num < 0:\n",
        "    print(\"Negative\")\n",
        "else:\n",
        "    print(\"Zero\")"
      ],
      "metadata": {
        "colab": {
          "base_uri": "https://localhost:8080/"
        },
        "id": "Wzn3C75ZVeSF",
        "outputId": "7d7f4cf0-afe9-4eb6-ab08-dc40077a4fd3"
      },
      "execution_count": null,
      "outputs": [
        {
          "output_type": "stream",
          "name": "stdout",
          "text": [
            "Enter a number: 5\n",
            "Positive\n"
          ]
        }
      ]
    },
    {
      "cell_type": "markdown",
      "source": [
        " Q12- Write a for loop to print numbers from 1 to 10."
      ],
      "metadata": {
        "id": "41CtCWcBVe4p"
      }
    },
    {
      "cell_type": "code",
      "source": [
        "for i in range(1, 11):\n",
        "    print(i)"
      ],
      "metadata": {
        "colab": {
          "base_uri": "https://localhost:8080/"
        },
        "id": "MPuu1_5MVuL-",
        "outputId": "3c6d34bc-4f62-40b5-b3c2-2aadfb70d23d"
      },
      "execution_count": null,
      "outputs": [
        {
          "output_type": "stream",
          "name": "stdout",
          "text": [
            "1\n",
            "2\n",
            "3\n",
            "4\n",
            "5\n",
            "6\n",
            "7\n",
            "8\n",
            "9\n",
            "10\n"
          ]
        }
      ]
    },
    {
      "cell_type": "code",
      "source": [],
      "metadata": {
        "id": "ZHqrAongVuVU"
      },
      "execution_count": null,
      "outputs": []
    },
    {
      "cell_type": "markdown",
      "source": [
        " Q13- Write a Python program to find the sum of all even numbers between 1 and 50.\n",
        "\n"
      ],
      "metadata": {
        "id": "D8SDBlm9Ve1O"
      }
    },
    {
      "cell_type": "code",
      "source": [
        "total = 0\n",
        "for i in range(2, 51, 2):\n",
        "    total += i\n",
        "print(\"Sum of even numbers:\", total)"
      ],
      "metadata": {
        "colab": {
          "base_uri": "https://localhost:8080/"
        },
        "id": "VhtP1iygV8O7",
        "outputId": "47c58a6d-4026-48ee-ac91-5ed834e5cd5b"
      },
      "execution_count": null,
      "outputs": [
        {
          "output_type": "stream",
          "name": "stdout",
          "text": [
            "Sum of even numbers: 650\n"
          ]
        }
      ]
    },
    {
      "cell_type": "markdown",
      "source": [
        "Q14- Write a program to reverse a string using a while loop."
      ],
      "metadata": {
        "id": "LnaT3kkyVeyP"
      }
    },
    {
      "cell_type": "code",
      "source": [
        "s = input(\"Enter a string: \")\n",
        "reversed_s = \"\"\n",
        "i = len(s) - 1\n",
        "\n",
        "while i >= 0:\n",
        "    reversed_s += s[i]\n",
        "    i -= 1\n",
        "\n",
        "print(\"Reversed string:\", reversed_s)"
      ],
      "metadata": {
        "colab": {
          "base_uri": "https://localhost:8080/"
        },
        "id": "oSxxIzo6WFte",
        "outputId": "d9974132-77eb-4389-f455-4072f83a29ad"
      },
      "execution_count": null,
      "outputs": [
        {
          "output_type": "stream",
          "name": "stdout",
          "text": [
            "Enter a string: 77\n",
            "Reversed string: 77\n"
          ]
        }
      ]
    },
    {
      "cell_type": "markdown",
      "source": [
        "Q15- Write a Python program to calculate the factorial of a number provided by the user using a while loop."
      ],
      "metadata": {
        "id": "PtJyQThGVev3"
      }
    },
    {
      "cell_type": "code",
      "source": [
        "num = int(input(\"Enter a number: \"))\n",
        "fact = 1\n",
        "i = 1\n",
        "\n",
        "while i <= num:\n",
        "    fact *= i\n",
        "    i += 1\n",
        "\n",
        "print(\"Factorial:\", fact)"
      ],
      "metadata": {
        "colab": {
          "base_uri": "https://localhost:8080/"
        },
        "id": "3VfD1gbtWPqY",
        "outputId": "6f69c9ea-a8db-4a6d-83ac-ad977c20103b"
      },
      "execution_count": null,
      "outputs": [
        {
          "output_type": "stream",
          "name": "stdout",
          "text": [
            "Enter a number: 8\n",
            "Factorial: 40320\n"
          ]
        }
      ]
    }
  ]
}